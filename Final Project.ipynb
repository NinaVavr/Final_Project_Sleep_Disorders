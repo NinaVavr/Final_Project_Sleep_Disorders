{
 "cells": [
  {
   "cell_type": "code",
   "execution_count": 1,
   "id": "45e325f8",
   "metadata": {},
   "outputs": [],
   "source": [
    "#conda update scikit-learn\n"
   ]
  },
  {
   "cell_type": "code",
   "execution_count": 2,
   "id": "8c1ebf2f",
   "metadata": {},
   "outputs": [
    {
     "name": "stderr",
     "output_type": "stream",
     "text": [
      "[nltk_data] Downloading package punkt to\n",
      "[nltk_data]     C:\\Users\\ninav\\AppData\\Roaming\\nltk_data...\n",
      "[nltk_data]   Package punkt is already up-to-date!\n",
      "[nltk_data] Downloading package averaged_perceptron_tagger to\n",
      "[nltk_data]     C:\\Users\\ninav\\AppData\\Roaming\\nltk_data...\n",
      "[nltk_data]   Package averaged_perceptron_tagger is already up-to-\n",
      "[nltk_data]       date!\n",
      "[nltk_data] Downloading package wordnet to\n",
      "[nltk_data]     C:\\Users\\ninav\\AppData\\Roaming\\nltk_data...\n",
      "[nltk_data]   Package wordnet is already up-to-date!\n",
      "[nltk_data] Downloading package stopwords to\n",
      "[nltk_data]     C:\\Users\\ninav\\AppData\\Roaming\\nltk_data...\n",
      "[nltk_data]   Package stopwords is already up-to-date!\n"
     ]
    }
   ],
   "source": [
    "#libraries used\n",
    "import time\n",
    "import pandas as pd\n",
    "import pickle\n",
    "import requests\n",
    "from bs4 import BeautifulSoup\n",
    "from scrapy import Selector\n",
    "import threading\n",
    "import multiprocessing\n",
    "import csv\n",
    "import regex as re\n",
    "import matplotlib.pyplot as plt\n",
    "import numpy as np\n",
    "import seaborn as sns\n",
    "import nltk\n",
    "from nltk.stem import WordNetLemmatizer \n",
    "from nltk.corpus import stopwords\n",
    "from sklearn.feature_extraction.text import CountVectorizer\n",
    "nltk.download('punkt')\n",
    "nltk.download('averaged_perceptron_tagger')\n",
    "nltk.download('wordnet')\n",
    "nltk.download('stopwords')\n",
    "from nltk.stem import WordNetLemmatizer \n",
    "from nltk.corpus import wordnet\n",
    "from nltk.tokenize import word_tokenize\n",
    "from nltk.corpus import stopwords\n",
    "import winsound\n",
    "from sklearn import linear_model\n",
    "from sklearn.linear_model import LogisticRegression\n",
    "from sklearn.tree import DecisionTreeClassifier\n",
    "from sklearn.ensemble import RandomForestClassifier\n",
    "from sklearn import neighbors\n",
    "\n",
    "from sklearn.metrics import confusion_matrix\n",
    "from sklearn.metrics import f1_score\n",
    "from sklearn.metrics import recall_score\n",
    "from sklearn.metrics import precision_score\n",
    "from sklearn.model_selection import cross_val_score\n",
    "import pandas as pd\n",
    "import numpy as np\n",
    "import scipy.stats as st\n",
    "import scipy.stats as stats\n",
    "import matplotlib.pyplot as plt\n",
    "import seaborn as sns"
   ]
  },
  {
   "cell_type": "code",
   "execution_count": 3,
   "id": "d09a3440",
   "metadata": {
    "scrolled": true
   },
   "outputs": [
    {
     "data": {
      "text/html": [
       "<div>\n",
       "<style scoped>\n",
       "    .dataframe tbody tr th:only-of-type {\n",
       "        vertical-align: middle;\n",
       "    }\n",
       "\n",
       "    .dataframe tbody tr th {\n",
       "        vertical-align: top;\n",
       "    }\n",
       "\n",
       "    .dataframe thead th {\n",
       "        text-align: right;\n",
       "    }\n",
       "</style>\n",
       "<table border=\"1\" class=\"dataframe\">\n",
       "  <thead>\n",
       "    <tr style=\"text-align: right;\">\n",
       "      <th></th>\n",
       "      <th>Gender</th>\n",
       "      <th>Age</th>\n",
       "      <th>Occupation</th>\n",
       "      <th>Sleep Duration</th>\n",
       "      <th>Quality of Sleep</th>\n",
       "      <th>Physical Activity Level</th>\n",
       "      <th>Stress Level</th>\n",
       "      <th>BMI Category</th>\n",
       "      <th>Blood Pressure</th>\n",
       "      <th>Heart Rate</th>\n",
       "      <th>Daily Steps</th>\n",
       "      <th>Sleep Disorder</th>\n",
       "    </tr>\n",
       "  </thead>\n",
       "  <tbody>\n",
       "    <tr>\n",
       "      <th>0</th>\n",
       "      <td>Male</td>\n",
       "      <td>27</td>\n",
       "      <td>Software Engineer</td>\n",
       "      <td>6.1</td>\n",
       "      <td>6</td>\n",
       "      <td>42</td>\n",
       "      <td>6</td>\n",
       "      <td>Overweight</td>\n",
       "      <td>126/83</td>\n",
       "      <td>77</td>\n",
       "      <td>4200</td>\n",
       "      <td>None</td>\n",
       "    </tr>\n",
       "    <tr>\n",
       "      <th>1</th>\n",
       "      <td>Male</td>\n",
       "      <td>28</td>\n",
       "      <td>Doctor</td>\n",
       "      <td>6.2</td>\n",
       "      <td>6</td>\n",
       "      <td>60</td>\n",
       "      <td>8</td>\n",
       "      <td>Normal</td>\n",
       "      <td>125/80</td>\n",
       "      <td>75</td>\n",
       "      <td>10000</td>\n",
       "      <td>None</td>\n",
       "    </tr>\n",
       "    <tr>\n",
       "      <th>2</th>\n",
       "      <td>Male</td>\n",
       "      <td>28</td>\n",
       "      <td>Doctor</td>\n",
       "      <td>6.2</td>\n",
       "      <td>6</td>\n",
       "      <td>60</td>\n",
       "      <td>8</td>\n",
       "      <td>Normal</td>\n",
       "      <td>125/80</td>\n",
       "      <td>75</td>\n",
       "      <td>10000</td>\n",
       "      <td>None</td>\n",
       "    </tr>\n",
       "    <tr>\n",
       "      <th>3</th>\n",
       "      <td>Male</td>\n",
       "      <td>28</td>\n",
       "      <td>Sales Representative</td>\n",
       "      <td>5.9</td>\n",
       "      <td>4</td>\n",
       "      <td>30</td>\n",
       "      <td>8</td>\n",
       "      <td>Obese</td>\n",
       "      <td>140/90</td>\n",
       "      <td>85</td>\n",
       "      <td>3000</td>\n",
       "      <td>Sleep Apnea</td>\n",
       "    </tr>\n",
       "    <tr>\n",
       "      <th>4</th>\n",
       "      <td>Male</td>\n",
       "      <td>28</td>\n",
       "      <td>Sales Representative</td>\n",
       "      <td>5.9</td>\n",
       "      <td>4</td>\n",
       "      <td>30</td>\n",
       "      <td>8</td>\n",
       "      <td>Obese</td>\n",
       "      <td>140/90</td>\n",
       "      <td>85</td>\n",
       "      <td>3000</td>\n",
       "      <td>Sleep Apnea</td>\n",
       "    </tr>\n",
       "    <tr>\n",
       "      <th>...</th>\n",
       "      <td>...</td>\n",
       "      <td>...</td>\n",
       "      <td>...</td>\n",
       "      <td>...</td>\n",
       "      <td>...</td>\n",
       "      <td>...</td>\n",
       "      <td>...</td>\n",
       "      <td>...</td>\n",
       "      <td>...</td>\n",
       "      <td>...</td>\n",
       "      <td>...</td>\n",
       "      <td>...</td>\n",
       "    </tr>\n",
       "    <tr>\n",
       "      <th>369</th>\n",
       "      <td>Female</td>\n",
       "      <td>59</td>\n",
       "      <td>Nurse</td>\n",
       "      <td>8.1</td>\n",
       "      <td>9</td>\n",
       "      <td>75</td>\n",
       "      <td>3</td>\n",
       "      <td>Overweight</td>\n",
       "      <td>140/95</td>\n",
       "      <td>68</td>\n",
       "      <td>7000</td>\n",
       "      <td>Sleep Apnea</td>\n",
       "    </tr>\n",
       "    <tr>\n",
       "      <th>370</th>\n",
       "      <td>Female</td>\n",
       "      <td>59</td>\n",
       "      <td>Nurse</td>\n",
       "      <td>8.0</td>\n",
       "      <td>9</td>\n",
       "      <td>75</td>\n",
       "      <td>3</td>\n",
       "      <td>Overweight</td>\n",
       "      <td>140/95</td>\n",
       "      <td>68</td>\n",
       "      <td>7000</td>\n",
       "      <td>Sleep Apnea</td>\n",
       "    </tr>\n",
       "    <tr>\n",
       "      <th>371</th>\n",
       "      <td>Female</td>\n",
       "      <td>59</td>\n",
       "      <td>Nurse</td>\n",
       "      <td>8.1</td>\n",
       "      <td>9</td>\n",
       "      <td>75</td>\n",
       "      <td>3</td>\n",
       "      <td>Overweight</td>\n",
       "      <td>140/95</td>\n",
       "      <td>68</td>\n",
       "      <td>7000</td>\n",
       "      <td>Sleep Apnea</td>\n",
       "    </tr>\n",
       "    <tr>\n",
       "      <th>372</th>\n",
       "      <td>Female</td>\n",
       "      <td>59</td>\n",
       "      <td>Nurse</td>\n",
       "      <td>8.1</td>\n",
       "      <td>9</td>\n",
       "      <td>75</td>\n",
       "      <td>3</td>\n",
       "      <td>Overweight</td>\n",
       "      <td>140/95</td>\n",
       "      <td>68</td>\n",
       "      <td>7000</td>\n",
       "      <td>Sleep Apnea</td>\n",
       "    </tr>\n",
       "    <tr>\n",
       "      <th>373</th>\n",
       "      <td>Female</td>\n",
       "      <td>59</td>\n",
       "      <td>Nurse</td>\n",
       "      <td>8.1</td>\n",
       "      <td>9</td>\n",
       "      <td>75</td>\n",
       "      <td>3</td>\n",
       "      <td>Overweight</td>\n",
       "      <td>140/95</td>\n",
       "      <td>68</td>\n",
       "      <td>7000</td>\n",
       "      <td>Sleep Apnea</td>\n",
       "    </tr>\n",
       "  </tbody>\n",
       "</table>\n",
       "<p>374 rows × 12 columns</p>\n",
       "</div>"
      ],
      "text/plain": [
       "     Gender  Age            Occupation  Sleep Duration  Quality of Sleep  \\\n",
       "0      Male   27     Software Engineer             6.1                 6   \n",
       "1      Male   28                Doctor             6.2                 6   \n",
       "2      Male   28                Doctor             6.2                 6   \n",
       "3      Male   28  Sales Representative             5.9                 4   \n",
       "4      Male   28  Sales Representative             5.9                 4   \n",
       "..      ...  ...                   ...             ...               ...   \n",
       "369  Female   59                 Nurse             8.1                 9   \n",
       "370  Female   59                 Nurse             8.0                 9   \n",
       "371  Female   59                 Nurse             8.1                 9   \n",
       "372  Female   59                 Nurse             8.1                 9   \n",
       "373  Female   59                 Nurse             8.1                 9   \n",
       "\n",
       "     Physical Activity Level  Stress Level BMI Category Blood Pressure  \\\n",
       "0                         42             6   Overweight         126/83   \n",
       "1                         60             8       Normal         125/80   \n",
       "2                         60             8       Normal         125/80   \n",
       "3                         30             8        Obese         140/90   \n",
       "4                         30             8        Obese         140/90   \n",
       "..                       ...           ...          ...            ...   \n",
       "369                       75             3   Overweight         140/95   \n",
       "370                       75             3   Overweight         140/95   \n",
       "371                       75             3   Overweight         140/95   \n",
       "372                       75             3   Overweight         140/95   \n",
       "373                       75             3   Overweight         140/95   \n",
       "\n",
       "     Heart Rate  Daily Steps Sleep Disorder  \n",
       "0            77         4200           None  \n",
       "1            75        10000           None  \n",
       "2            75        10000           None  \n",
       "3            85         3000    Sleep Apnea  \n",
       "4            85         3000    Sleep Apnea  \n",
       "..          ...          ...            ...  \n",
       "369          68         7000    Sleep Apnea  \n",
       "370          68         7000    Sleep Apnea  \n",
       "371          68         7000    Sleep Apnea  \n",
       "372          68         7000    Sleep Apnea  \n",
       "373          68         7000    Sleep Apnea  \n",
       "\n",
       "[374 rows x 12 columns]"
      ]
     },
     "execution_count": 3,
     "metadata": {},
     "output_type": "execute_result"
    }
   ],
   "source": [
    "data = pd.read_csv('Sleep_health_and_lifestyle_dataset.csv')\n",
    "data = data.drop('Person ID', axis=1) #dropping as a unique value\n",
    "data"
   ]
  },
  {
   "cell_type": "markdown",
   "id": "ca1bcc59",
   "metadata": {},
   "source": [
    "## Checking the NaN values in the data"
   ]
  },
  {
   "cell_type": "code",
   "execution_count": 4,
   "id": "81ec4998",
   "metadata": {},
   "outputs": [
    {
     "data": {
      "text/html": [
       "<div>\n",
       "<style scoped>\n",
       "    .dataframe tbody tr th:only-of-type {\n",
       "        vertical-align: middle;\n",
       "    }\n",
       "\n",
       "    .dataframe tbody tr th {\n",
       "        vertical-align: top;\n",
       "    }\n",
       "\n",
       "    .dataframe thead th {\n",
       "        text-align: right;\n",
       "    }\n",
       "</style>\n",
       "<table border=\"1\" class=\"dataframe\">\n",
       "  <thead>\n",
       "    <tr style=\"text-align: right;\">\n",
       "      <th></th>\n",
       "      <th>column_name</th>\n",
       "      <th>nulls_percentage</th>\n",
       "    </tr>\n",
       "  </thead>\n",
       "  <tbody>\n",
       "    <tr>\n",
       "      <th>0</th>\n",
       "      <td>Gender</td>\n",
       "      <td>0.0</td>\n",
       "    </tr>\n",
       "    <tr>\n",
       "      <th>1</th>\n",
       "      <td>Age</td>\n",
       "      <td>0.0</td>\n",
       "    </tr>\n",
       "    <tr>\n",
       "      <th>2</th>\n",
       "      <td>Occupation</td>\n",
       "      <td>0.0</td>\n",
       "    </tr>\n",
       "    <tr>\n",
       "      <th>3</th>\n",
       "      <td>Sleep Duration</td>\n",
       "      <td>0.0</td>\n",
       "    </tr>\n",
       "    <tr>\n",
       "      <th>4</th>\n",
       "      <td>Quality of Sleep</td>\n",
       "      <td>0.0</td>\n",
       "    </tr>\n",
       "    <tr>\n",
       "      <th>5</th>\n",
       "      <td>Physical Activity Level</td>\n",
       "      <td>0.0</td>\n",
       "    </tr>\n",
       "    <tr>\n",
       "      <th>6</th>\n",
       "      <td>Stress Level</td>\n",
       "      <td>0.0</td>\n",
       "    </tr>\n",
       "    <tr>\n",
       "      <th>7</th>\n",
       "      <td>BMI Category</td>\n",
       "      <td>0.0</td>\n",
       "    </tr>\n",
       "    <tr>\n",
       "      <th>8</th>\n",
       "      <td>Blood Pressure</td>\n",
       "      <td>0.0</td>\n",
       "    </tr>\n",
       "    <tr>\n",
       "      <th>9</th>\n",
       "      <td>Heart Rate</td>\n",
       "      <td>0.0</td>\n",
       "    </tr>\n",
       "    <tr>\n",
       "      <th>10</th>\n",
       "      <td>Daily Steps</td>\n",
       "      <td>0.0</td>\n",
       "    </tr>\n",
       "    <tr>\n",
       "      <th>11</th>\n",
       "      <td>Sleep Disorder</td>\n",
       "      <td>0.0</td>\n",
       "    </tr>\n",
       "  </tbody>\n",
       "</table>\n",
       "</div>"
      ],
      "text/plain": [
       "                column_name  nulls_percentage\n",
       "0                    Gender               0.0\n",
       "1                       Age               0.0\n",
       "2                Occupation               0.0\n",
       "3            Sleep Duration               0.0\n",
       "4          Quality of Sleep               0.0\n",
       "5   Physical Activity Level               0.0\n",
       "6              Stress Level               0.0\n",
       "7              BMI Category               0.0\n",
       "8            Blood Pressure               0.0\n",
       "9                Heart Rate               0.0\n",
       "10              Daily Steps               0.0\n",
       "11           Sleep Disorder               0.0"
      ]
     },
     "execution_count": 4,
     "metadata": {},
     "output_type": "execute_result"
    }
   ],
   "source": [
    "nulls_percent_df = pd.DataFrame(data.isna().sum()/len(data)).reset_index()\n",
    "nulls_percent_df\n",
    "nulls_percent_df.columns = ['column_name', 'nulls_percentage']\n",
    "nulls_percent_df"
   ]
  },
  {
   "cell_type": "code",
   "execution_count": 5,
   "id": "e46da6c1",
   "metadata": {},
   "outputs": [
    {
     "data": {
      "text/plain": [
       "242"
      ]
     },
     "execution_count": 5,
     "metadata": {},
     "output_type": "execute_result"
    }
   ],
   "source": [
    "data.duplicated().sum() #no duplicates"
   ]
  },
  {
   "cell_type": "code",
   "execution_count": 6,
   "id": "14c58a14",
   "metadata": {},
   "outputs": [
    {
     "data": {
      "text/html": [
       "<div>\n",
       "<style scoped>\n",
       "    .dataframe tbody tr th:only-of-type {\n",
       "        vertical-align: middle;\n",
       "    }\n",
       "\n",
       "    .dataframe tbody tr th {\n",
       "        vertical-align: top;\n",
       "    }\n",
       "\n",
       "    .dataframe thead th {\n",
       "        text-align: right;\n",
       "    }\n",
       "</style>\n",
       "<table border=\"1\" class=\"dataframe\">\n",
       "  <thead>\n",
       "    <tr style=\"text-align: right;\">\n",
       "      <th></th>\n",
       "      <th>gender</th>\n",
       "      <th>age</th>\n",
       "      <th>occupation</th>\n",
       "      <th>sleep_duration</th>\n",
       "      <th>quality_of_sleep</th>\n",
       "      <th>physical_activity_level</th>\n",
       "      <th>stress_level</th>\n",
       "      <th>bmi_category</th>\n",
       "      <th>blood_pressure</th>\n",
       "      <th>heart_rate</th>\n",
       "      <th>daily_steps</th>\n",
       "      <th>sleep_disorder</th>\n",
       "    </tr>\n",
       "  </thead>\n",
       "  <tbody>\n",
       "    <tr>\n",
       "      <th>0</th>\n",
       "      <td>Male</td>\n",
       "      <td>27</td>\n",
       "      <td>Software Engineer</td>\n",
       "      <td>6.1</td>\n",
       "      <td>6</td>\n",
       "      <td>42</td>\n",
       "      <td>6</td>\n",
       "      <td>Overweight</td>\n",
       "      <td>126/83</td>\n",
       "      <td>77</td>\n",
       "      <td>4200</td>\n",
       "      <td>None</td>\n",
       "    </tr>\n",
       "    <tr>\n",
       "      <th>1</th>\n",
       "      <td>Male</td>\n",
       "      <td>28</td>\n",
       "      <td>Doctor</td>\n",
       "      <td>6.2</td>\n",
       "      <td>6</td>\n",
       "      <td>60</td>\n",
       "      <td>8</td>\n",
       "      <td>Normal</td>\n",
       "      <td>125/80</td>\n",
       "      <td>75</td>\n",
       "      <td>10000</td>\n",
       "      <td>None</td>\n",
       "    </tr>\n",
       "    <tr>\n",
       "      <th>2</th>\n",
       "      <td>Male</td>\n",
       "      <td>28</td>\n",
       "      <td>Doctor</td>\n",
       "      <td>6.2</td>\n",
       "      <td>6</td>\n",
       "      <td>60</td>\n",
       "      <td>8</td>\n",
       "      <td>Normal</td>\n",
       "      <td>125/80</td>\n",
       "      <td>75</td>\n",
       "      <td>10000</td>\n",
       "      <td>None</td>\n",
       "    </tr>\n",
       "    <tr>\n",
       "      <th>3</th>\n",
       "      <td>Male</td>\n",
       "      <td>28</td>\n",
       "      <td>Sales Representative</td>\n",
       "      <td>5.9</td>\n",
       "      <td>4</td>\n",
       "      <td>30</td>\n",
       "      <td>8</td>\n",
       "      <td>Obese</td>\n",
       "      <td>140/90</td>\n",
       "      <td>85</td>\n",
       "      <td>3000</td>\n",
       "      <td>Sleep Apnea</td>\n",
       "    </tr>\n",
       "    <tr>\n",
       "      <th>4</th>\n",
       "      <td>Male</td>\n",
       "      <td>28</td>\n",
       "      <td>Sales Representative</td>\n",
       "      <td>5.9</td>\n",
       "      <td>4</td>\n",
       "      <td>30</td>\n",
       "      <td>8</td>\n",
       "      <td>Obese</td>\n",
       "      <td>140/90</td>\n",
       "      <td>85</td>\n",
       "      <td>3000</td>\n",
       "      <td>Sleep Apnea</td>\n",
       "    </tr>\n",
       "    <tr>\n",
       "      <th>...</th>\n",
       "      <td>...</td>\n",
       "      <td>...</td>\n",
       "      <td>...</td>\n",
       "      <td>...</td>\n",
       "      <td>...</td>\n",
       "      <td>...</td>\n",
       "      <td>...</td>\n",
       "      <td>...</td>\n",
       "      <td>...</td>\n",
       "      <td>...</td>\n",
       "      <td>...</td>\n",
       "      <td>...</td>\n",
       "    </tr>\n",
       "    <tr>\n",
       "      <th>369</th>\n",
       "      <td>Female</td>\n",
       "      <td>59</td>\n",
       "      <td>Nurse</td>\n",
       "      <td>8.1</td>\n",
       "      <td>9</td>\n",
       "      <td>75</td>\n",
       "      <td>3</td>\n",
       "      <td>Overweight</td>\n",
       "      <td>140/95</td>\n",
       "      <td>68</td>\n",
       "      <td>7000</td>\n",
       "      <td>Sleep Apnea</td>\n",
       "    </tr>\n",
       "    <tr>\n",
       "      <th>370</th>\n",
       "      <td>Female</td>\n",
       "      <td>59</td>\n",
       "      <td>Nurse</td>\n",
       "      <td>8.0</td>\n",
       "      <td>9</td>\n",
       "      <td>75</td>\n",
       "      <td>3</td>\n",
       "      <td>Overweight</td>\n",
       "      <td>140/95</td>\n",
       "      <td>68</td>\n",
       "      <td>7000</td>\n",
       "      <td>Sleep Apnea</td>\n",
       "    </tr>\n",
       "    <tr>\n",
       "      <th>371</th>\n",
       "      <td>Female</td>\n",
       "      <td>59</td>\n",
       "      <td>Nurse</td>\n",
       "      <td>8.1</td>\n",
       "      <td>9</td>\n",
       "      <td>75</td>\n",
       "      <td>3</td>\n",
       "      <td>Overweight</td>\n",
       "      <td>140/95</td>\n",
       "      <td>68</td>\n",
       "      <td>7000</td>\n",
       "      <td>Sleep Apnea</td>\n",
       "    </tr>\n",
       "    <tr>\n",
       "      <th>372</th>\n",
       "      <td>Female</td>\n",
       "      <td>59</td>\n",
       "      <td>Nurse</td>\n",
       "      <td>8.1</td>\n",
       "      <td>9</td>\n",
       "      <td>75</td>\n",
       "      <td>3</td>\n",
       "      <td>Overweight</td>\n",
       "      <td>140/95</td>\n",
       "      <td>68</td>\n",
       "      <td>7000</td>\n",
       "      <td>Sleep Apnea</td>\n",
       "    </tr>\n",
       "    <tr>\n",
       "      <th>373</th>\n",
       "      <td>Female</td>\n",
       "      <td>59</td>\n",
       "      <td>Nurse</td>\n",
       "      <td>8.1</td>\n",
       "      <td>9</td>\n",
       "      <td>75</td>\n",
       "      <td>3</td>\n",
       "      <td>Overweight</td>\n",
       "      <td>140/95</td>\n",
       "      <td>68</td>\n",
       "      <td>7000</td>\n",
       "      <td>Sleep Apnea</td>\n",
       "    </tr>\n",
       "  </tbody>\n",
       "</table>\n",
       "<p>374 rows × 12 columns</p>\n",
       "</div>"
      ],
      "text/plain": [
       "     gender  age            occupation  sleep_duration  quality_of_sleep  \\\n",
       "0      Male   27     Software Engineer             6.1                 6   \n",
       "1      Male   28                Doctor             6.2                 6   \n",
       "2      Male   28                Doctor             6.2                 6   \n",
       "3      Male   28  Sales Representative             5.9                 4   \n",
       "4      Male   28  Sales Representative             5.9                 4   \n",
       "..      ...  ...                   ...             ...               ...   \n",
       "369  Female   59                 Nurse             8.1                 9   \n",
       "370  Female   59                 Nurse             8.0                 9   \n",
       "371  Female   59                 Nurse             8.1                 9   \n",
       "372  Female   59                 Nurse             8.1                 9   \n",
       "373  Female   59                 Nurse             8.1                 9   \n",
       "\n",
       "     physical_activity_level  stress_level bmi_category blood_pressure  \\\n",
       "0                         42             6   Overweight         126/83   \n",
       "1                         60             8       Normal         125/80   \n",
       "2                         60             8       Normal         125/80   \n",
       "3                         30             8        Obese         140/90   \n",
       "4                         30             8        Obese         140/90   \n",
       "..                       ...           ...          ...            ...   \n",
       "369                       75             3   Overweight         140/95   \n",
       "370                       75             3   Overweight         140/95   \n",
       "371                       75             3   Overweight         140/95   \n",
       "372                       75             3   Overweight         140/95   \n",
       "373                       75             3   Overweight         140/95   \n",
       "\n",
       "     heart_rate  daily_steps sleep_disorder  \n",
       "0            77         4200           None  \n",
       "1            75        10000           None  \n",
       "2            75        10000           None  \n",
       "3            85         3000    Sleep Apnea  \n",
       "4            85         3000    Sleep Apnea  \n",
       "..          ...          ...            ...  \n",
       "369          68         7000    Sleep Apnea  \n",
       "370          68         7000    Sleep Apnea  \n",
       "371          68         7000    Sleep Apnea  \n",
       "372          68         7000    Sleep Apnea  \n",
       "373          68         7000    Sleep Apnea  \n",
       "\n",
       "[374 rows x 12 columns]"
      ]
     },
     "execution_count": 6,
     "metadata": {},
     "output_type": "execute_result"
    }
   ],
   "source": [
    "#Converting to 'snake_case'\n",
    "cols1 = []\n",
    "for column in data.columns:\n",
    "    cols1.append(column.lower().replace(' ', '_'))\n",
    "cols1\n",
    "data.columns = cols1\n",
    "data"
   ]
  },
  {
   "cell_type": "code",
   "execution_count": 7,
   "id": "c2333481",
   "metadata": {},
   "outputs": [],
   "source": [
    "Y = data[['sleep_disorder']] "
   ]
  },
  {
   "cell_type": "code",
   "execution_count": 8,
   "id": "f8acf5e5",
   "metadata": {},
   "outputs": [],
   "source": [
    "data1 = data"
   ]
  },
  {
   "cell_type": "code",
   "execution_count": 9,
   "id": "169e723a",
   "metadata": {},
   "outputs": [],
   "source": [
    "#Converting the target column 'sleep_disorder' into binary values, 0 and 1\n",
    "data1['sleep_disorder'] = data['sleep_disorder'].str.replace('None','0').str.replace('Insomnia','1').str.replace('Sleep Apnea','1')"
   ]
  },
  {
   "cell_type": "code",
   "execution_count": 10,
   "id": "3a574d32",
   "metadata": {},
   "outputs": [
    {
     "data": {
      "text/plain": [
       "gender                      object\n",
       "age                          int64\n",
       "occupation                  object\n",
       "sleep_duration             float64\n",
       "quality_of_sleep             int64\n",
       "physical_activity_level      int64\n",
       "stress_level                 int64\n",
       "bmi_category                object\n",
       "blood_pressure              object\n",
       "heart_rate                   int64\n",
       "daily_steps                  int64\n",
       "sleep_disorder              object\n",
       "dtype: object"
      ]
     },
     "execution_count": 10,
     "metadata": {},
     "output_type": "execute_result"
    }
   ],
   "source": [
    "data1.dtypes"
   ]
  },
  {
   "cell_type": "markdown",
   "id": "52e8d534",
   "metadata": {},
   "source": [
    "## Selecting the categorical and numerical columns"
   ]
  },
  {
   "cell_type": "code",
   "execution_count": 11,
   "id": "1027e84e",
   "metadata": {},
   "outputs": [
    {
     "data": {
      "text/html": [
       "<div>\n",
       "<style scoped>\n",
       "    .dataframe tbody tr th:only-of-type {\n",
       "        vertical-align: middle;\n",
       "    }\n",
       "\n",
       "    .dataframe tbody tr th {\n",
       "        vertical-align: top;\n",
       "    }\n",
       "\n",
       "    .dataframe thead th {\n",
       "        text-align: right;\n",
       "    }\n",
       "</style>\n",
       "<table border=\"1\" class=\"dataframe\">\n",
       "  <thead>\n",
       "    <tr style=\"text-align: right;\">\n",
       "      <th></th>\n",
       "      <th>gender</th>\n",
       "      <th>occupation</th>\n",
       "      <th>bmi_category</th>\n",
       "      <th>blood_pressure</th>\n",
       "      <th>sleep_disorder</th>\n",
       "    </tr>\n",
       "  </thead>\n",
       "  <tbody>\n",
       "    <tr>\n",
       "      <th>0</th>\n",
       "      <td>Male</td>\n",
       "      <td>Software Engineer</td>\n",
       "      <td>Overweight</td>\n",
       "      <td>126/83</td>\n",
       "      <td>0</td>\n",
       "    </tr>\n",
       "    <tr>\n",
       "      <th>1</th>\n",
       "      <td>Male</td>\n",
       "      <td>Doctor</td>\n",
       "      <td>Normal</td>\n",
       "      <td>125/80</td>\n",
       "      <td>0</td>\n",
       "    </tr>\n",
       "    <tr>\n",
       "      <th>2</th>\n",
       "      <td>Male</td>\n",
       "      <td>Doctor</td>\n",
       "      <td>Normal</td>\n",
       "      <td>125/80</td>\n",
       "      <td>0</td>\n",
       "    </tr>\n",
       "    <tr>\n",
       "      <th>3</th>\n",
       "      <td>Male</td>\n",
       "      <td>Sales Representative</td>\n",
       "      <td>Obese</td>\n",
       "      <td>140/90</td>\n",
       "      <td>1</td>\n",
       "    </tr>\n",
       "    <tr>\n",
       "      <th>4</th>\n",
       "      <td>Male</td>\n",
       "      <td>Sales Representative</td>\n",
       "      <td>Obese</td>\n",
       "      <td>140/90</td>\n",
       "      <td>1</td>\n",
       "    </tr>\n",
       "  </tbody>\n",
       "</table>\n",
       "</div>"
      ],
      "text/plain": [
       "  gender            occupation bmi_category blood_pressure sleep_disorder\n",
       "0   Male     Software Engineer   Overweight         126/83              0\n",
       "1   Male                Doctor       Normal         125/80              0\n",
       "2   Male                Doctor       Normal         125/80              0\n",
       "3   Male  Sales Representative        Obese         140/90              1\n",
       "4   Male  Sales Representative        Obese         140/90              1"
      ]
     },
     "execution_count": 11,
     "metadata": {},
     "output_type": "execute_result"
    }
   ],
   "source": [
    "categorical = data1.select_dtypes(object)\n",
    "categorical.head()"
   ]
  },
  {
   "cell_type": "code",
   "execution_count": 12,
   "id": "31a677a2",
   "metadata": {},
   "outputs": [
    {
     "data": {
      "text/html": [
       "<div>\n",
       "<style scoped>\n",
       "    .dataframe tbody tr th:only-of-type {\n",
       "        vertical-align: middle;\n",
       "    }\n",
       "\n",
       "    .dataframe tbody tr th {\n",
       "        vertical-align: top;\n",
       "    }\n",
       "\n",
       "    .dataframe thead th {\n",
       "        text-align: right;\n",
       "    }\n",
       "</style>\n",
       "<table border=\"1\" class=\"dataframe\">\n",
       "  <thead>\n",
       "    <tr style=\"text-align: right;\">\n",
       "      <th></th>\n",
       "      <th>age</th>\n",
       "      <th>sleep_duration</th>\n",
       "      <th>quality_of_sleep</th>\n",
       "      <th>physical_activity_level</th>\n",
       "      <th>stress_level</th>\n",
       "      <th>heart_rate</th>\n",
       "      <th>daily_steps</th>\n",
       "    </tr>\n",
       "  </thead>\n",
       "  <tbody>\n",
       "    <tr>\n",
       "      <th>0</th>\n",
       "      <td>27</td>\n",
       "      <td>6.1</td>\n",
       "      <td>6</td>\n",
       "      <td>42</td>\n",
       "      <td>6</td>\n",
       "      <td>77</td>\n",
       "      <td>4200</td>\n",
       "    </tr>\n",
       "    <tr>\n",
       "      <th>1</th>\n",
       "      <td>28</td>\n",
       "      <td>6.2</td>\n",
       "      <td>6</td>\n",
       "      <td>60</td>\n",
       "      <td>8</td>\n",
       "      <td>75</td>\n",
       "      <td>10000</td>\n",
       "    </tr>\n",
       "    <tr>\n",
       "      <th>2</th>\n",
       "      <td>28</td>\n",
       "      <td>6.2</td>\n",
       "      <td>6</td>\n",
       "      <td>60</td>\n",
       "      <td>8</td>\n",
       "      <td>75</td>\n",
       "      <td>10000</td>\n",
       "    </tr>\n",
       "    <tr>\n",
       "      <th>3</th>\n",
       "      <td>28</td>\n",
       "      <td>5.9</td>\n",
       "      <td>4</td>\n",
       "      <td>30</td>\n",
       "      <td>8</td>\n",
       "      <td>85</td>\n",
       "      <td>3000</td>\n",
       "    </tr>\n",
       "    <tr>\n",
       "      <th>4</th>\n",
       "      <td>28</td>\n",
       "      <td>5.9</td>\n",
       "      <td>4</td>\n",
       "      <td>30</td>\n",
       "      <td>8</td>\n",
       "      <td>85</td>\n",
       "      <td>3000</td>\n",
       "    </tr>\n",
       "  </tbody>\n",
       "</table>\n",
       "</div>"
      ],
      "text/plain": [
       "   age  sleep_duration  quality_of_sleep  physical_activity_level  \\\n",
       "0   27             6.1                 6                       42   \n",
       "1   28             6.2                 6                       60   \n",
       "2   28             6.2                 6                       60   \n",
       "3   28             5.9                 4                       30   \n",
       "4   28             5.9                 4                       30   \n",
       "\n",
       "   stress_level  heart_rate  daily_steps  \n",
       "0             6          77         4200  \n",
       "1             8          75        10000  \n",
       "2             8          75        10000  \n",
       "3             8          85         3000  \n",
       "4             8          85         3000  "
      ]
     },
     "execution_count": 12,
     "metadata": {},
     "output_type": "execute_result"
    }
   ],
   "source": [
    "numerical = data1.select_dtypes(np.number)\n",
    "numerical.head()"
   ]
  },
  {
   "cell_type": "code",
   "execution_count": 13,
   "id": "6b3c91f5",
   "metadata": {
    "scrolled": false
   },
   "outputs": [
    {
     "data": {
      "image/png": "[encoded data removed]",
      "text/plain": [
       "<Figure size 800x400 with 1 Axes>"
      ]
     },
     "metadata": {},
     "output_type": "display_data"
    },
    {
     "data": {
      "image/png": "[encoded data removed]",
      "text/plain": [
       "<Figure size 800x400 with 1 Axes>"
      ]
     },
     "metadata": {},
     "output_type": "display_data"
    },
    {
     "data": {
      "image/png": "[encoded data removed]",
      "text/plain": [
       "<Figure size 800x400 with 1 Axes>"
      ]
     },
     "metadata": {},
     "output_type": "display_data"
    },
    {
     "data": {
      "image/png": "[encoded data removed]",
      "text/plain": [
       "<Figure size 800x400 with 1 Axes>"
      ]
     },
     "metadata": {},
     "output_type": "display_data"
    },
    {
     "data": {
      "image/png": "[encoded data removed]",
      "text/plain": [
       "<Figure size 800x400 with 1 Axes>"
      ]
     },
     "metadata": {},
     "output_type": "display_data"
    },
    {
     "data": {
      "image/png": "[encoded data removed]",
      "text/plain": [
       "<Figure size 800x400 with 1 Axes>"
      ]
     },
     "metadata": {},
     "output_type": "display_data"
    },
    {
     "data": {
      "image/png": "[encoded data removed]",
      "text/plain": [
       "<Figure size 800x400 with 1 Axes>"
      ]
     },
     "metadata": {},
     "output_type": "display_data"
    }
   ],
   "source": [
    "for feature in numerical:\n",
    "    sns.displot(data=data1, x=feature, height=4, aspect=2, color= 'orange')"
   ]
  },
  {
   "cell_type": "markdown",
   "id": "7cddb5c8",
   "metadata": {},
   "source": [
    "## Web scraping"
   ]
  },
  {
   "cell_type": "code",
   "execution_count": 14,
   "id": "504ae9ca",
   "metadata": {},
   "outputs": [],
   "source": [
    "sleeping_disorder_link = \"https://www.mayoclinic.org/diseases-conditions/sleep-disorders/symptoms-causes/syc-20354018\""
   ]
  },
  {
   "cell_type": "code",
   "execution_count": 15,
   "id": "1f8a081d",
   "metadata": {},
   "outputs": [
    {
     "data": {
      "text/plain": [
       "200"
      ]
     },
     "execution_count": 15,
     "metadata": {},
     "output_type": "execute_result"
    }
   ],
   "source": [
    "response = requests.get(sleeping_disorder_link)\n",
    "response.status_code "
   ]
  },
  {
   "cell_type": "code",
   "execution_count": 16,
   "id": "3146cad9",
   "metadata": {},
   "outputs": [],
   "source": [
    "soup = BeautifulSoup(response.content, \"html.parser\")"
   ]
  },
  {
   "cell_type": "code",
   "execution_count": 17,
   "id": "4b961625",
   "metadata": {},
   "outputs": [],
   "source": [
    "#soup"
   ]
  },
  {
   "cell_type": "code",
   "execution_count": 18,
   "id": "09dc4519",
   "metadata": {},
   "outputs": [
    {
     "data": {
      "text/plain": [
       "[<div class=\"content\">\n",
       " <div class=\"thin-content-bar\" id=\"phmaincontent_0_ctl01_divByLine\">\n",
       " <div class=\"print\"><a href=\"/diseases-conditions/sleep-disorders/symptoms-causes/syc-20354018?p=1\">Print</a></div>\n",
       " </div>\n",
       " <div class=\"contentbox\">\n",
       " </div>\n",
       " <div>\n",
       " <!--googleoff: all--><h2>Overview</h2><!--googleon: all--><p>Sleep disorders are conditions that result in changes in the way that you sleep.</p>\n",
       " <p>A sleep disorder can affect your overall health, safety and quality of life. Sleep deprivation can affect your ability to drive safely and increase your risk of other health problems.</p>\n",
       " <p>Some of the signs and symptoms of sleep disorders include excessive daytime sleepiness, irregular breathing or increased movement during sleep. Other signs and symptoms include an irregular sleep and wake cycle and difficulty falling asleep. </p><div data-nosnippet=\"true\"><div id=\"ad-mobile-top-container\"></div></div>\n",
       " <p>There are many different types of sleep disorders. They're often grouped into categories that explain why they happen or how they affect you. Sleep disorders can also be grouped according to behaviors, problems with your natural sleep-wake cycles, breathing problems, difficulty sleeping or how sleepy you feel during the day.</p>\n",
       " <p>Some common types of sleep disorders include:</p>\n",
       " <ul>\n",
       " <li>Insomnia, in which you have difficulty falling asleep or staying asleep throughout the night.</li>\n",
       " <li>Sleep apnea, in which you experience abnormal patterns in breathing while you are asleep. There are several types of sleep apnea.</li>\n",
       " <li>Restless legs syndrome (RLS), a type of sleep movement disorder. Restless legs syndrome, also called Willis-Ekbom disease, causes an uncomfortable sensation and an urge to move the legs while you try to fall asleep.</li>\n",
       " <li>Narcolepsy, a condition characterized by extreme sleepiness during the day and falling asleep suddenly during the day.</li>\n",
       " </ul>\n",
       " <p>There are many ways to help diagnose sleep disorders. Doctors can usually treat most sleep disorders effectively once they're correctly diagnosed.</p><!--googleoff: all--><div class=\"acces-list-container rc-list\"><h3>Products &amp; Services</h3><div class=\"list-wrapper\"><ul class=\"listGroup\" id=\"ul_e6d09fbd-19fe-49ac-9b47-bd857c0d411b\"><li class=\"acces-listitems\"><a href=\"https://order.store.mayoclinic.com/books/gnweb43?utm_source=MC-DotOrg-PS&amp;utm_medium=Link&amp;utm_campaign=FamilyHealth-Book&amp;utm_content=FHB\">Book: Mayo Clinic Family Health Book, 5th Edition</a></li><li class=\"acces-hide-listitems\"><a href=\"https://order.store.mayoclinic.com/hl/hldiged?utm_source=MC-DotOrg-PS&amp;utm_medium=Link&amp;utm_campaign=HealthLetter-Digital&amp;utm_content=HLDE\">Newsletter: Mayo Clinic Health Letter — Digital Edition</a></li></ul><button aria-controls=\"ul_e6d09fbd-19fe-49ac-9b47-bd857c0d411b\" class=\"acces-list-show-hide\" data-ending=\"false\" data-hide=\"Show fewer products from Mayo Clinic\" data-show=\"Show more products from Mayo Clinic\" data-show-count=\"0\" id=\"btn_e6d09fbd-19fe-49ac-9b47-bd857c0d411b\" type=\"button\">Show more products from Mayo Clinic</button></div></div><!--googleon: all-->\n",
       " <div id=\"redpoint_emailform_1\"></div>\n",
       " <div>\n",
       " <div>\n",
       " </div>\n",
       " </div>\n",
       " <h2>Symptoms</h2><p>Symptoms of sleep disorders include being very sleepy during the daytime and having trouble falling asleep at night. Some people may fall asleep at inappropriate times, such as while driving. Other symptoms include breathing in an unusual pattern or feeling an uncomfortable urge to move while you are trying to fall asleep. Unusual or bothersome movements or experiences during sleep are also possible. Having an irregular sleep and wake cycle is another symptom of sleep disorders.</p>\n",
       " <h2>Clinical trials</h2>\n",
       " <p>\n",
       " <a href=\"https://www.mayo.edu/research/clinical-trials/search-results?studySiteStatusesGrouped=Open/Status Unknown&amp;pocId=CON-20197160\" id=\"phmaincontent_0_phleftchannel_1_SectionRepeater_phclinicaltrials_0_3_ctLink_3\">Explore Mayo Clinic studies</a> testing new treatments, interventions and tests as a means to prevent, detect, treat or manage this condition.\n",
       "     </p>\n",
       " <div class=\"sub\">\n",
       " <div>\n",
       " <div id=\"\">\n",
       " </div>\n",
       " </div>\n",
       " </div>\n",
       " <div class=\"thin-content-by\"><a href=\"/about-this-site/meet-our-medical-editors\">By Mayo Clinic Staff</a></div>\n",
       " </div>\n",
       " <p>\n",
       " <a href=\"/diseases-conditions/sleep-disorders/care-at-mayo-clinic/mac-20354021\">Sleep disorders care at Mayo Clinic</a>\n",
       " </p>\n",
       " <div class=\"requestappt\"><a class=\"ico-appt\" href=\"/appointments\" id=\"et_linkAppointment_belowContent\">Request an appointment</a></div>\n",
       " <div id=\"redpoint_emailform_2\"></div>\n",
       " <div id=\"redpoint_emailform_3\"></div>\n",
       " <div class=\"sectionnav\"><a class=\"fwd\" href=\"/diseases-conditions/sleep-disorders/doctors-departments/ddc-20354020\"><span>Doctors &amp; departments</span></a></div>\n",
       " <div class=\"pubdate\">\n",
       "     Aug. 10, 2019\n",
       " </div>\n",
       " <div class=\"print\"><a href=\"/diseases-conditions/sleep-disorders/symptoms-causes/syc-20354018?p=1\">Print</a></div>\n",
       " <!--googleoff: snippet-->\n",
       " <div class=\"share\"> Share on: <a class=\"facebook\" href=\"https://www.facebook.com/sharer.php?u=https://www.mayoclinic.org/diseases-conditions/sleep-disorders/symptoms-causes/syc-20354018\" id=\"et_shareFacebook\" onclick=\"window.open(this.href,'targetWindow','toolbar=no,location=0,status=no,menubar=no,scrollbars=yes,resizable=yes,width=600,height=250'); return false;\">Facebook</a><a class=\"twitter\" href=\"http://twitter.com/intent/tweet?url=https://www.mayoclinic.org/diseases-conditions/sleep-disorders/symptoms-causes/syc-20354018&amp;text=Sleep+disorders+-+Symptoms+and+causes\" id=\"et_shareTwitter\">Twitter</a></div>\n",
       " <!--googleon: snippet-->\n",
       " <!--googleoff: snippet-->\n",
       " <div class=\"references\"><button aria-controls=\"dvReferenceListGS\" aria-expanded=\"false\" class=\"acces-show-hide\" data-hide=\"Hide references\" data-show=\"Show references\" type=\"button\">Show references</button><div id=\"dvReferenceListGS\"><ol>\n",
       " <li>Judd BG, et al. Classification of sleep disorders. http://www.uptodate.com/. Accessed July 25, 2016.</li>\n",
       " <li>Chervin RD. Approach to the patient with excessive daytime sleepiness. http://www.uptodate.com/. Accessed July 25, 2016.</li>\n",
       " <li>Sleep disorders and problems. National Sleep Foundation. https://sleepfoundation.org/sleep-disorders-problems. July 25, 2016.</li>\n",
       " <li>Olson EJ (expert opinion). Mayo Clinic, Rochester, Minn. July 8, 2019.</li>\n",
       " <li>Sleep disorders. American Academy of Sleep Medicine. http://yoursleep.aasmnet.org/Disorders.aspx. Accessed July 25, 2016.</li>\n",
       " <li>Riggin EA. Allscripts EPSi. Mayo Clinic, Rochester, Minn. June 24, 2019.</li>\n",
       " <li>American Academy of Sleep Medicine. International Classification of Sleep Disorders. 3rd ed. Darien, IL: American Academy of Sleep Medicine; 2014.</li>\n",
       " </ol></div></div>\n",
       " <!--googleon: snippet-->\n",
       " <!--googleoff: all-->\n",
       " <div class=\"acces-list-container\">\n",
       " <h2>Related</h2>\n",
       " <div class=\"list-wrapper\">\n",
       " <h3>Products &amp; Services</h3>\n",
       " <ul class=\"listGroup\" id=\"relatedLinks_856c6d24-3cca-4078-b129-b556b4342c38\">\n",
       " <li>\n",
       " <a href=\"https://order.store.mayoclinic.com/books/gnweb43?utm_source=MC-DotOrg-PS&amp;utm_medium=Link&amp;utm_campaign=FamilyHealth-Book&amp;utm_content=FHB\">Book: Mayo Clinic Family Health Book, 5th Edition</a>\n",
       " </li>\n",
       " <li class=\"acces-hide-listitems\">\n",
       " <a href=\"https://order.store.mayoclinic.com/hl/hldiged?utm_source=MC-DotOrg-PS&amp;utm_medium=Link&amp;utm_campaign=HealthLetter-Digital&amp;utm_content=HLDE\">Newsletter: Mayo Clinic Health Letter — Digital Edition</a>\n",
       " </li>\n",
       " </ul>\n",
       " <button aria-controls=\"relatedLinks_856c6d24-3cca-4078-b129-b556b4342c38\" class=\"acces-list-show-hide\" data-ending=\"false\" data-hide=\"Show fewer products and services from Mayo Clinic\" data-show=\"Show more products and services from Mayo Clinic\" data-show-count=\"0\" type=\"button\">Show more products and services from Mayo Clinic</button>\n",
       " </div>\n",
       " </div>\n",
       " <!--googleon: all-->\n",
       " <!--googleoff: snippet-->\n",
       " <!--googleon: snippet-->\n",
       " <div class=\"tableofcontents\">\n",
       " <h2>Sleep disorders</h2><ul><li role=\"menuitem\"><a aria-current=\"true\" class=\"on\" href=\"/diseases-conditions/sleep-disorders/symptoms-causes/syc-20354018\" id=\"et_tableOfContents_symptoms-causes\">Symptoms &amp; causes</a></li><li role=\"menuitem\"><a href=\"/diseases-conditions/sleep-disorders/doctors-departments/ddc-20354020\" id=\"et_tableOfContents_doctors-departments\">Doctors &amp; departments</a></li><li role=\"menuitem\"><a href=\"/diseases-conditions/sleep-disorders/care-at-mayo-clinic/mac-20354021\" id=\"et_tableOfContents_care-at-mayo-clinic\">Care at Mayo Clinic</a></li></ul>\n",
       " </div>\n",
       " </div>]"
      ]
     },
     "execution_count": 18,
     "metadata": {},
     "output_type": "execute_result"
    }
   ],
   "source": [
    "soup.select('#main-content > div:nth-child(1) > div.content')"
   ]
  },
  {
   "cell_type": "code",
   "execution_count": 19,
   "id": "d4b8d471",
   "metadata": {},
   "outputs": [
    {
     "data": {
      "text/plain": [
       "'Insomnia, in which you have difficulty falling asleep or staying asleep throughout the night.'"
      ]
     },
     "execution_count": 19,
     "metadata": {},
     "output_type": "execute_result"
    }
   ],
   "source": [
    "definition_insomnia = soup.select('#main-content > div:nth-child(1) > div.content > div:nth-child(3) > ul > li:nth-child(1)')[0].get_text().strip()\n",
    "definition_insomnia"
   ]
  },
  {
   "cell_type": "code",
   "execution_count": 20,
   "id": "29573997",
   "metadata": {},
   "outputs": [
    {
     "data": {
      "text/plain": [
       "'Sleep apnea, in which you experience abnormal patterns in breathing while you are asleep. There are several types of sleep apnea.'"
      ]
     },
     "execution_count": 20,
     "metadata": {},
     "output_type": "execute_result"
    }
   ],
   "source": [
    "definition_apnea = soup.select('#main-content > div:nth-child(1) > div.content > div:nth-child(3) > ul > li:nth-child(2)')[0].get_text().strip()\n",
    "definition_apnea"
   ]
  },
  {
   "cell_type": "markdown",
   "id": "edf95ccb",
   "metadata": {},
   "source": [
    "## Preprocessing"
   ]
  },
  {
   "cell_type": "markdown",
   "id": "0048fa41",
   "metadata": {},
   "source": [
    "### X - y split"
   ]
  },
  {
   "cell_type": "code",
   "execution_count": 21,
   "id": "5ac3c1e0",
   "metadata": {},
   "outputs": [
    {
     "data": {
      "text/html": [
       "<div>\n",
       "<style scoped>\n",
       "    .dataframe tbody tr th:only-of-type {\n",
       "        vertical-align: middle;\n",
       "    }\n",
       "\n",
       "    .dataframe tbody tr th {\n",
       "        vertical-align: top;\n",
       "    }\n",
       "\n",
       "    .dataframe thead th {\n",
       "        text-align: right;\n",
       "    }\n",
       "</style>\n",
       "<table border=\"1\" class=\"dataframe\">\n",
       "  <thead>\n",
       "    <tr style=\"text-align: right;\">\n",
       "      <th></th>\n",
       "      <th>age</th>\n",
       "      <th>sleep_duration</th>\n",
       "      <th>quality_of_sleep</th>\n",
       "      <th>physical_activity_level</th>\n",
       "      <th>stress_level</th>\n",
       "      <th>heart_rate</th>\n",
       "      <th>daily_steps</th>\n",
       "      <th>gender</th>\n",
       "      <th>occupation</th>\n",
       "      <th>bmi_category</th>\n",
       "      <th>blood_pressure</th>\n",
       "      <th>sleep_disorder</th>\n",
       "    </tr>\n",
       "  </thead>\n",
       "  <tbody>\n",
       "    <tr>\n",
       "      <th>0</th>\n",
       "      <td>27</td>\n",
       "      <td>6.1</td>\n",
       "      <td>6</td>\n",
       "      <td>42</td>\n",
       "      <td>6</td>\n",
       "      <td>77</td>\n",
       "      <td>4200</td>\n",
       "      <td>Male</td>\n",
       "      <td>Software Engineer</td>\n",
       "      <td>Overweight</td>\n",
       "      <td>126/83</td>\n",
       "      <td>0</td>\n",
       "    </tr>\n",
       "    <tr>\n",
       "      <th>1</th>\n",
       "      <td>28</td>\n",
       "      <td>6.2</td>\n",
       "      <td>6</td>\n",
       "      <td>60</td>\n",
       "      <td>8</td>\n",
       "      <td>75</td>\n",
       "      <td>10000</td>\n",
       "      <td>Male</td>\n",
       "      <td>Doctor</td>\n",
       "      <td>Normal</td>\n",
       "      <td>125/80</td>\n",
       "      <td>0</td>\n",
       "    </tr>\n",
       "    <tr>\n",
       "      <th>2</th>\n",
       "      <td>28</td>\n",
       "      <td>6.2</td>\n",
       "      <td>6</td>\n",
       "      <td>60</td>\n",
       "      <td>8</td>\n",
       "      <td>75</td>\n",
       "      <td>10000</td>\n",
       "      <td>Male</td>\n",
       "      <td>Doctor</td>\n",
       "      <td>Normal</td>\n",
       "      <td>125/80</td>\n",
       "      <td>0</td>\n",
       "    </tr>\n",
       "    <tr>\n",
       "      <th>3</th>\n",
       "      <td>28</td>\n",
       "      <td>5.9</td>\n",
       "      <td>4</td>\n",
       "      <td>30</td>\n",
       "      <td>8</td>\n",
       "      <td>85</td>\n",
       "      <td>3000</td>\n",
       "      <td>Male</td>\n",
       "      <td>Sales Representative</td>\n",
       "      <td>Obese</td>\n",
       "      <td>140/90</td>\n",
       "      <td>1</td>\n",
       "    </tr>\n",
       "    <tr>\n",
       "      <th>4</th>\n",
       "      <td>28</td>\n",
       "      <td>5.9</td>\n",
       "      <td>4</td>\n",
       "      <td>30</td>\n",
       "      <td>8</td>\n",
       "      <td>85</td>\n",
       "      <td>3000</td>\n",
       "      <td>Male</td>\n",
       "      <td>Sales Representative</td>\n",
       "      <td>Obese</td>\n",
       "      <td>140/90</td>\n",
       "      <td>1</td>\n",
       "    </tr>\n",
       "    <tr>\n",
       "      <th>...</th>\n",
       "      <td>...</td>\n",
       "      <td>...</td>\n",
       "      <td>...</td>\n",
       "      <td>...</td>\n",
       "      <td>...</td>\n",
       "      <td>...</td>\n",
       "      <td>...</td>\n",
       "      <td>...</td>\n",
       "      <td>...</td>\n",
       "      <td>...</td>\n",
       "      <td>...</td>\n",
       "      <td>...</td>\n",
       "    </tr>\n",
       "    <tr>\n",
       "      <th>369</th>\n",
       "      <td>59</td>\n",
       "      <td>8.1</td>\n",
       "      <td>9</td>\n",
       "      <td>75</td>\n",
       "      <td>3</td>\n",
       "      <td>68</td>\n",
       "      <td>7000</td>\n",
       "      <td>Female</td>\n",
       "      <td>Nurse</td>\n",
       "      <td>Overweight</td>\n",
       "      <td>140/95</td>\n",
       "      <td>1</td>\n",
       "    </tr>\n",
       "    <tr>\n",
       "      <th>370</th>\n",
       "      <td>59</td>\n",
       "      <td>8.0</td>\n",
       "      <td>9</td>\n",
       "      <td>75</td>\n",
       "      <td>3</td>\n",
       "      <td>68</td>\n",
       "      <td>7000</td>\n",
       "      <td>Female</td>\n",
       "      <td>Nurse</td>\n",
       "      <td>Overweight</td>\n",
       "      <td>140/95</td>\n",
       "      <td>1</td>\n",
       "    </tr>\n",
       "    <tr>\n",
       "      <th>371</th>\n",
       "      <td>59</td>\n",
       "      <td>8.1</td>\n",
       "      <td>9</td>\n",
       "      <td>75</td>\n",
       "      <td>3</td>\n",
       "      <td>68</td>\n",
       "      <td>7000</td>\n",
       "      <td>Female</td>\n",
       "      <td>Nurse</td>\n",
       "      <td>Overweight</td>\n",
       "      <td>140/95</td>\n",
       "      <td>1</td>\n",
       "    </tr>\n",
       "    <tr>\n",
       "      <th>372</th>\n",
       "      <td>59</td>\n",
       "      <td>8.1</td>\n",
       "      <td>9</td>\n",
       "      <td>75</td>\n",
       "      <td>3</td>\n",
       "      <td>68</td>\n",
       "      <td>7000</td>\n",
       "      <td>Female</td>\n",
       "      <td>Nurse</td>\n",
       "      <td>Overweight</td>\n",
       "      <td>140/95</td>\n",
       "      <td>1</td>\n",
       "    </tr>\n",
       "    <tr>\n",
       "      <th>373</th>\n",
       "      <td>59</td>\n",
       "      <td>8.1</td>\n",
       "      <td>9</td>\n",
       "      <td>75</td>\n",
       "      <td>3</td>\n",
       "      <td>68</td>\n",
       "      <td>7000</td>\n",
       "      <td>Female</td>\n",
       "      <td>Nurse</td>\n",
       "      <td>Overweight</td>\n",
       "      <td>140/95</td>\n",
       "      <td>1</td>\n",
       "    </tr>\n",
       "  </tbody>\n",
       "</table>\n",
       "<p>374 rows × 12 columns</p>\n",
       "</div>"
      ],
      "text/plain": [
       "     age  sleep_duration  quality_of_sleep  physical_activity_level  \\\n",
       "0     27             6.1                 6                       42   \n",
       "1     28             6.2                 6                       60   \n",
       "2     28             6.2                 6                       60   \n",
       "3     28             5.9                 4                       30   \n",
       "4     28             5.9                 4                       30   \n",
       "..   ...             ...               ...                      ...   \n",
       "369   59             8.1                 9                       75   \n",
       "370   59             8.0                 9                       75   \n",
       "371   59             8.1                 9                       75   \n",
       "372   59             8.1                 9                       75   \n",
       "373   59             8.1                 9                       75   \n",
       "\n",
       "     stress_level  heart_rate  daily_steps  gender            occupation  \\\n",
       "0               6          77         4200    Male     Software Engineer   \n",
       "1               8          75        10000    Male                Doctor   \n",
       "2               8          75        10000    Male                Doctor   \n",
       "3               8          85         3000    Male  Sales Representative   \n",
       "4               8          85         3000    Male  Sales Representative   \n",
       "..            ...         ...          ...     ...                   ...   \n",
       "369             3          68         7000  Female                 Nurse   \n",
       "370             3          68         7000  Female                 Nurse   \n",
       "371             3          68         7000  Female                 Nurse   \n",
       "372             3          68         7000  Female                 Nurse   \n",
       "373             3          68         7000  Female                 Nurse   \n",
       "\n",
       "    bmi_category blood_pressure sleep_disorder  \n",
       "0     Overweight         126/83              0  \n",
       "1         Normal         125/80              0  \n",
       "2         Normal         125/80              0  \n",
       "3          Obese         140/90              1  \n",
       "4          Obese         140/90              1  \n",
       "..           ...            ...            ...  \n",
       "369   Overweight         140/95              1  \n",
       "370   Overweight         140/95              1  \n",
       "371   Overweight         140/95              1  \n",
       "372   Overweight         140/95              1  \n",
       "373   Overweight         140/95              1  \n",
       "\n",
       "[374 rows x 12 columns]"
      ]
     },
     "execution_count": 21,
     "metadata": {},
     "output_type": "execute_result"
    }
   ],
   "source": [
    "data1 = pd.concat([numerical, categorical], axis = 1)\n",
    "data1"
   ]
  },
  {
   "cell_type": "code",
   "execution_count": 22,
   "id": "966b2ed7",
   "metadata": {},
   "outputs": [],
   "source": [
    "X = data1.drop(columns=['sleep_disorder'])\n",
    "y = data1['sleep_disorder']"
   ]
  },
  {
   "cell_type": "code",
   "execution_count": 23,
   "id": "bd1459c8",
   "metadata": {},
   "outputs": [
    {
     "data": {
      "text/plain": [
       "0    219\n",
       "1    155\n",
       "Name: sleep_disorder, dtype: int64"
      ]
     },
     "execution_count": 23,
     "metadata": {},
     "output_type": "execute_result"
    }
   ],
   "source": [
    "y.value_counts()"
   ]
  },
  {
   "cell_type": "code",
   "execution_count": 24,
   "id": "62391859",
   "metadata": {},
   "outputs": [],
   "source": [
    "from sklearn.model_selection import train_test_split\n",
    "X_train, X_test, y_train, y_test = train_test_split(X, y, test_size=0.20, random_state=42)"
   ]
  },
  {
   "cell_type": "markdown",
   "id": "945bdbff",
   "metadata": {},
   "source": [
    "### Splitting numerical and categorical"
   ]
  },
  {
   "cell_type": "code",
   "execution_count": 25,
   "id": "383cd437",
   "metadata": {},
   "outputs": [],
   "source": [
    "num_train = X_train.select_dtypes(np.number)\n",
    "num_test = X_test.select_dtypes(np.number)\n",
    "cat_train = X_train.select_dtypes(object)\n",
    "cat_test = X_test.select_dtypes(object)"
   ]
  },
  {
   "cell_type": "markdown",
   "id": "0bb7c42b",
   "metadata": {},
   "source": [
    "### Scaling Numericals"
   ]
  },
  {
   "cell_type": "code",
   "execution_count": 26,
   "id": "4d538c52",
   "metadata": {},
   "outputs": [],
   "source": [
    "from sklearn.preprocessing import MinMaxScaler\n",
    "scaler = MinMaxScaler().fit(num_train)\n",
    "num_train_scaled = scaler.transform(num_train)\n",
    "num_test_scaled = scaler.transform(num_test)\n",
    "cols = scaler.get_feature_names_out(input_features = num_train.columns)\n",
    "num_train_scaled = pd.DataFrame(num_train_scaled, columns=cols, index = num_train.index)\n",
    "num_test_scaled = pd.DataFrame(num_test_scaled, columns=cols, index = num_test.index)"
   ]
  },
  {
   "cell_type": "markdown",
   "id": "4a32b419",
   "metadata": {},
   "source": [
    "### Encoding"
   ]
  },
  {
   "cell_type": "code",
   "execution_count": 27,
   "id": "15c778bf",
   "metadata": {},
   "outputs": [],
   "source": [
    "from sklearn.preprocessing import OneHotEncoder\n",
    "# Fit encoder\n",
    "encoder = OneHotEncoder(handle_unknown='ignore').fit(cat_train)\n",
    "# Getting the column names for the later selection\n",
    "column_name = encoder.get_feature_names_out(cat_train.columns)\n",
    "# Encode train and test\n",
    "cat_train_encoded = pd.DataFrame(encoder.transform(cat_train).toarray(),columns = column_name, index=cat_train.index)\n",
    "cat_test_encoded = pd.DataFrame(encoder.transform(cat_test).toarray(),columns = column_name, index=cat_test.index)\n"
   ]
  },
  {
   "cell_type": "markdown",
   "id": "851c9d78",
   "metadata": {},
   "source": [
    "## Oversampling"
   ]
  },
  {
   "cell_type": "markdown",
   "id": "09891d04",
   "metadata": {},
   "source": [
    "### Concatenating"
   ]
  },
  {
   "cell_type": "code",
   "execution_count": 28,
   "id": "34e9e495",
   "metadata": {},
   "outputs": [],
   "source": [
    "X_train = pd.concat([num_train_scaled, cat_train_encoded, y_train], axis = 1)\n",
    "X_test = pd.concat([num_test_scaled, cat_test_encoded], axis = 1)"
   ]
  },
  {
   "cell_type": "markdown",
   "id": "68d80488",
   "metadata": {},
   "source": [
    "### Upscaling"
   ]
  },
  {
   "cell_type": "code",
   "execution_count": 29,
   "id": "e64d1cc5",
   "metadata": {},
   "outputs": [],
   "source": [
    "from sklearn.utils import resample\n",
    "# Splitting into majority and minority class, the 'yes' donors are the minority class.\n",
    "no = X_train[X_train['sleep_disorder']=='0']\n",
    "yes = X_train[X_train['sleep_disorder']=='1']"
   ]
  },
  {
   "cell_type": "code",
   "execution_count": 30,
   "id": "3c7fd3b4",
   "metadata": {},
   "outputs": [],
   "source": [
    "# oversample minority\n",
    "yes_oversampled = resample(yes, #<- sample from here\n",
    "                                    replace=True, #<- we need replacement, since we don't have enough data otherwise\n",
    "                                    n_samples = len(no),#<- make both sets the same size\n",
    "                                    )"
   ]
  },
  {
   "cell_type": "code",
   "execution_count": 31,
   "id": "270ee176",
   "metadata": {},
   "outputs": [],
   "source": [
    "# Concatenate with majority class\n",
    "train_oversampled = pd.concat([no,yes_oversampled],axis=0)"
   ]
  },
  {
   "cell_type": "code",
   "execution_count": 32,
   "id": "08760fe1",
   "metadata": {},
   "outputs": [],
   "source": [
    "# X-y Split again\n",
    "X_train_over = train_oversampled.drop('sleep_disorder', axis = 1)\n",
    "y_train_over = train_oversampled['sleep_disorder']"
   ]
  },
  {
   "cell_type": "markdown",
   "id": "1ab19663",
   "metadata": {},
   "source": [
    "## Random Forest"
   ]
  },
  {
   "cell_type": "code",
   "execution_count": 33,
   "id": "b0591f5b",
   "metadata": {},
   "outputs": [],
   "source": [
    "from sklearn.ensemble import RandomForestClassifier\n",
    "from sklearn.metrics import confusion_matrix"
   ]
  },
  {
   "cell_type": "code",
   "execution_count": 34,
   "id": "57f0672f",
   "metadata": {},
   "outputs": [],
   "source": [
    "# Defining the classifier\n",
    "clf = RandomForestClassifier(max_depth=5)"
   ]
  },
  {
   "cell_type": "code",
   "execution_count": 35,
   "id": "96ca16f9",
   "metadata": {},
   "outputs": [],
   "source": [
    "def model_eval(model,X_train,y_train,X_test, y_test):\n",
    "        # Fitting\n",
    "        model.fit(X_train, y_train)\n",
    "        # Predicting\n",
    "        predictions_test = model.predict(X_test)\n",
    "        # Calculating confusion matrix\n",
    "        cm = confusion_matrix(y_test, predictions_test)\n",
    "        # Printing different evaluation metrics\n",
    "        print( str(model.base_estimator_)[:-2] + \" score: \", model.score(X_test, y_test))\n",
    "        print( str(model.base_estimator_)[:-2] + \" precision: \",precision_score(y_test,predictions_test, pos_label='1'))\n",
    "        print( str(model.base_estimator_)[:-2] + \" recall: \",recall_score(y_test,predictions_test, pos_label='1'))\n",
    "        print( str(model.base_estimator_)[:-2] + \" f1: \",f1_score(y_test,predictions_test, pos_label='1'))\n",
    "        print('\\n')\n",
    "        print(cm)\n",
    "        return model"
   ]
  },
  {
   "cell_type": "code",
   "execution_count": 36,
   "id": "3f8418c0",
   "metadata": {},
   "outputs": [
    {
     "name": "stdout",
     "output_type": "stream",
     "text": [
      "DecisionTreeClassifier score:  0.96\n",
      "DecisionTreeClassifier precision:  0.967741935483871\n",
      "DecisionTreeClassifier recall:  0.9375\n",
      "DecisionTreeClassifier f1:  0.9523809523809523\n",
      "\n",
      "\n",
      "[[42  1]\n",
      " [ 2 30]]\n"
     ]
    },
    {
     "name": "stderr",
     "output_type": "stream",
     "text": [
      "C:\\Users\\ninav\\anaconda3\\lib\\site-packages\\sklearn\\utils\\deprecation.py:101: FutureWarning: Attribute `base_estimator_` was deprecated in version 1.2 and will be removed in 1.4. Use `estimator_` instead.\n",
      "  warnings.warn(msg, category=FutureWarning)\n",
      "C:\\Users\\ninav\\anaconda3\\lib\\site-packages\\sklearn\\utils\\deprecation.py:101: FutureWarning: Attribute `base_estimator_` was deprecated in version 1.2 and will be removed in 1.4. Use `estimator_` instead.\n",
      "  warnings.warn(msg, category=FutureWarning)\n",
      "C:\\Users\\ninav\\anaconda3\\lib\\site-packages\\sklearn\\utils\\deprecation.py:101: FutureWarning: Attribute `base_estimator_` was deprecated in version 1.2 and will be removed in 1.4. Use `estimator_` instead.\n",
      "  warnings.warn(msg, category=FutureWarning)\n",
      "C:\\Users\\ninav\\anaconda3\\lib\\site-packages\\sklearn\\utils\\deprecation.py:101: FutureWarning: Attribute `base_estimator_` was deprecated in version 1.2 and will be removed in 1.4. Use `estimator_` instead.\n",
      "  warnings.warn(msg, category=FutureWarning)\n"
     ]
    },
    {
     "data": {
      "text/html": [
       "<style>#sk-container-id-1 {color: black;}#sk-container-id-1 pre{padding: 0;}#sk-container-id-1 div.sk-toggleable {background-color: white;}#sk-container-id-1 label.sk-toggleable__label {cursor: pointer;display: block;width: 100%;margin-bottom: 0;padding: 0.3em;box-sizing: border-box;text-align: center;}#sk-container-id-1 label.sk-toggleable__label-arrow:before {content: \"▸\";float: left;margin-right: 0.25em;color: #696969;}#sk-container-id-1 label.sk-toggleable__label-arrow:hover:before {color: black;}#sk-container-id-1 div.sk-estimator:hover label.sk-toggleable__label-arrow:before {color: black;}#sk-container-id-1 div.sk-toggleable__content {max-height: 0;max-width: 0;overflow: hidden;text-align: left;background-color: #f0f8ff;}#sk-container-id-1 div.sk-toggleable__content pre {margin: 0.2em;color: black;border-radius: 0.25em;background-color: #f0f8ff;}#sk-container-id-1 input.sk-toggleable__control:checked~div.sk-toggleable__content {max-height: 200px;max-width: 100%;overflow: auto;}#sk-container-id-1 input.sk-toggleable__control:checked~label.sk-toggleable__label-arrow:before {content: \"▾\";}#sk-container-id-1 div.sk-estimator input.sk-toggleable__control:checked~label.sk-toggleable__label {background-color: #d4ebff;}#sk-container-id-1 div.sk-label input.sk-toggleable__control:checked~label.sk-toggleable__label {background-color: #d4ebff;}#sk-container-id-1 input.sk-hidden--visually {border: 0;clip: rect(1px 1px 1px 1px);clip: rect(1px, 1px, 1px, 1px);height: 1px;margin: -1px;overflow: hidden;padding: 0;position: absolute;width: 1px;}#sk-container-id-1 div.sk-estimator {font-family: monospace;background-color: #f0f8ff;border: 1px dotted black;border-radius: 0.25em;box-sizing: border-box;margin-bottom: 0.5em;}#sk-container-id-1 div.sk-estimator:hover {background-color: #d4ebff;}#sk-container-id-1 div.sk-parallel-item::after {content: \"\";width: 100%;border-bottom: 1px solid gray;flex-grow: 1;}#sk-container-id-1 div.sk-label:hover label.sk-toggleable__label {background-color: #d4ebff;}#sk-container-id-1 div.sk-serial::before {content: \"\";position: absolute;border-left: 1px solid gray;box-sizing: border-box;top: 0;bottom: 0;left: 50%;z-index: 0;}#sk-container-id-1 div.sk-serial {display: flex;flex-direction: column;align-items: center;background-color: white;padding-right: 0.2em;padding-left: 0.2em;position: relative;}#sk-container-id-1 div.sk-item {position: relative;z-index: 1;}#sk-container-id-1 div.sk-parallel {display: flex;align-items: stretch;justify-content: center;background-color: white;position: relative;}#sk-container-id-1 div.sk-item::before, #sk-container-id-1 div.sk-parallel-item::before {content: \"\";position: absolute;border-left: 1px solid gray;box-sizing: border-box;top: 0;bottom: 0;left: 50%;z-index: -1;}#sk-container-id-1 div.sk-parallel-item {display: flex;flex-direction: column;z-index: 1;position: relative;background-color: white;}#sk-container-id-1 div.sk-parallel-item:first-child::after {align-self: flex-end;width: 50%;}#sk-container-id-1 div.sk-parallel-item:last-child::after {align-self: flex-start;width: 50%;}#sk-container-id-1 div.sk-parallel-item:only-child::after {width: 0;}#sk-container-id-1 div.sk-dashed-wrapped {border: 1px dashed gray;margin: 0 0.4em 0.5em 0.4em;box-sizing: border-box;padding-bottom: 0.4em;background-color: white;}#sk-container-id-1 div.sk-label label {font-family: monospace;font-weight: bold;display: inline-block;line-height: 1.2em;}#sk-container-id-1 div.sk-label-container {text-align: center;}#sk-container-id-1 div.sk-container {/* jupyter's `normalize.less` sets `[hidden] { display: none; }` but bootstrap.min.css set `[hidden] { display: none !important; }` so we also need the `!important` here to be able to override the default hidden behavior on the sphinx rendered scikit-learn.org. See: https://github.com/scikit-learn/scikit-learn/issues/21755 */display: inline-block !important;position: relative;}#sk-container-id-1 div.sk-text-repr-fallback {display: none;}</style><div id=\"sk-container-id-1\" class=\"sk-top-container\"><div class=\"sk-text-repr-fallback\"><pre>RandomForestClassifier(max_depth=5)</pre><b>In a Jupyter environment, please rerun this cell to show the HTML representation or trust the notebook. <br />On GitHub, the HTML representation is unable to render, please try loading this page with nbviewer.org.</b></div><div class=\"sk-container\" hidden><div class=\"sk-item\"><div class=\"sk-estimator sk-toggleable\"><input class=\"sk-toggleable__control sk-hidden--visually\" id=\"sk-estimator-id-1\" type=\"checkbox\" checked><label for=\"sk-estimator-id-1\" class=\"sk-toggleable__label sk-toggleable__label-arrow\">RandomForestClassifier</label><div class=\"sk-toggleable__content\"><pre>RandomForestClassifier(max_depth=5)</pre></div></div></div></div></div>"
      ],
      "text/plain": [
       "RandomForestClassifier(max_depth=5)"
      ]
     },
     "execution_count": 36,
     "metadata": {},
     "output_type": "execute_result"
    }
   ],
   "source": [
    "model_eval(clf,X_train_over,y_train_over,X_test, y_test)"
   ]
  },
  {
   "cell_type": "markdown",
   "id": "45fd5511",
   "metadata": {},
   "source": [
    "The scores above are very high, close to 1, so we can apply this model on our original data to make predictions."
   ]
  },
  {
   "cell_type": "markdown",
   "id": "194ad678",
   "metadata": {},
   "source": [
    "### X - y split at our original data"
   ]
  },
  {
   "cell_type": "code",
   "execution_count": 37,
   "id": "1df22779",
   "metadata": {},
   "outputs": [],
   "source": [
    "X_num = X.select_dtypes(np.number)\n",
    "X_cat = X.select_dtypes(object)"
   ]
  },
  {
   "cell_type": "markdown",
   "id": "5d082968",
   "metadata": {},
   "source": [
    "### Encode again the categorical"
   ]
  },
  {
   "cell_type": "code",
   "execution_count": 38,
   "id": "20f92eeb",
   "metadata": {},
   "outputs": [],
   "source": [
    "X_cat_encoded = encoder.transform(X_cat).toarray()\n",
    "column_names1 = encoder.get_feature_names_out(input_features = X_cat.columns)\n",
    "X_cat_encoded = pd.DataFrame(X_cat_encoded, columns=column_names1)"
   ]
  },
  {
   "cell_type": "markdown",
   "id": "c14718c0",
   "metadata": {},
   "source": [
    "### Scale again the numerical"
   ]
  },
  {
   "cell_type": "code",
   "execution_count": 39,
   "id": "8f4bad76",
   "metadata": {},
   "outputs": [],
   "source": [
    "X_num_scaled = scaler.transform(X_num)\n",
    "column_names2= scaler.get_feature_names_out(input_features = X_num.columns)\n",
    "X_num_scaled = pd.DataFrame(X_num_scaled, columns=column_names2)"
   ]
  },
  {
   "cell_type": "markdown",
   "id": "7ab0414e",
   "metadata": {},
   "source": [
    "### Concatenating"
   ]
  },
  {
   "cell_type": "code",
   "execution_count": 40,
   "id": "5634df92",
   "metadata": {},
   "outputs": [],
   "source": [
    "X_data1 = pd.concat([X_num_scaled, X_cat_encoded], axis = 1)"
   ]
  },
  {
   "cell_type": "code",
   "execution_count": 41,
   "id": "91252c79",
   "metadata": {},
   "outputs": [
    {
     "data": {
      "text/plain": [
       "array(['0', '0', '0', '1', '1', '1', '1', '0', '0', '0', '0', '0', '0',\n",
       "       '0', '0', '0', '1', '0', '1', '0', '0', '0', '0', '0', '0', '0',\n",
       "       '0', '0', '0', '0', '1', '1', '0', '0', '0', '0', '0', '0', '0',\n",
       "       '0', '0', '0', '0', '0', '0', '0', '0', '0', '0', '0', '0', '0',\n",
       "       '0', '0', '0', '0', '0', '0', '0', '0', '0', '0', '0', '0', '0',\n",
       "       '0', '0', '0', '0', '0', '0', '0', '0', '0', '0', '0', '0', '0',\n",
       "       '0', '0', '1', '1', '0', '0', '0', '0', '0', '0', '0', '0', '0',\n",
       "       '0', '0', '1', '0', '0', '0', '0', '0', '0', '0', '0', '0', '1',\n",
       "       '0', '1', '0', '0', '0', '0', '0', '0', '0', '0', '0', '0', '0',\n",
       "       '0', '0', '0', '0', '0', '0', '0', '0', '0', '0', '0', '0', '0',\n",
       "       '0', '0', '0', '0', '0', '0', '0', '0', '0', '0', '0', '0', '0',\n",
       "       '0', '0', '1', '0', '1', '0', '0', '0', '0', '0', '0', '0', '0',\n",
       "       '0', '0', '0', '0', '0', '0', '0', '0', '0', '0', '0', '0', '0',\n",
       "       '0', '0', '0', '0', '0', '0', '0', '0', '1', '0', '0', '0', '0',\n",
       "       '0', '0', '1', '1', '1', '1', '1', '1', '1', '1', '1', '1', '1',\n",
       "       '1', '1', '1', '1', '1', '1', '0', '0', '0', '0', '0', '0', '0',\n",
       "       '0', '0', '0', '0', '0', '0', '0', '0', '0', '0', '0', '1', '1',\n",
       "       '1', '1', '1', '1', '1', '1', '1', '1', '1', '1', '1', '1', '1',\n",
       "       '1', '1', '1', '1', '1', '1', '1', '1', '1', '1', '1', '1', '1',\n",
       "       '1', '1', '1', '1', '1', '1', '1', '1', '1', '1', '1', '1', '1',\n",
       "       '1', '1', '1', '0', '1', '1', '1', '1', '1', '1', '1', '1', '1',\n",
       "       '1', '1', '1', '1', '1', '1', '0', '1', '1', '1', '1', '1', '1',\n",
       "       '1', '1', '1', '1', '1', '1', '1', '1', '1', '1', '1', '1', '0',\n",
       "       '0', '0', '0', '0', '1', '1', '1', '1', '1', '1', '1', '1', '1',\n",
       "       '0', '0', '0', '0', '0', '0', '0', '0', '0', '0', '0', '0', '0',\n",
       "       '0', '0', '0', '0', '0', '0', '0', '0', '0', '0', '0', '0', '0',\n",
       "       '0', '1', '1', '0', '0', '1', '1', '1', '1', '1', '1', '1', '1',\n",
       "       '1', '1', '1', '1', '1', '1', '1', '1', '1', '1', '1', '1', '1',\n",
       "       '1', '1', '1', '1', '1', '1', '1', '1', '1', '1'], dtype=object)"
      ]
     },
     "execution_count": 41,
     "metadata": {},
     "output_type": "execute_result"
    }
   ],
   "source": [
    "predictions_data1 = clf.predict(X_data1)\n",
    "predictions_data1 "
   ]
  },
  {
   "cell_type": "code",
   "execution_count": 42,
   "id": "d269e453",
   "metadata": {},
   "outputs": [
    {
     "data": {
      "text/html": [
       "<div>\n",
       "<style scoped>\n",
       "    .dataframe tbody tr th:only-of-type {\n",
       "        vertical-align: middle;\n",
       "    }\n",
       "\n",
       "    .dataframe tbody tr th {\n",
       "        vertical-align: top;\n",
       "    }\n",
       "\n",
       "    .dataframe thead th {\n",
       "        text-align: right;\n",
       "    }\n",
       "</style>\n",
       "<table border=\"1\" class=\"dataframe\">\n",
       "  <thead>\n",
       "    <tr style=\"text-align: right;\">\n",
       "      <th></th>\n",
       "      <th>age</th>\n",
       "      <th>sleep_duration</th>\n",
       "      <th>quality_of_sleep</th>\n",
       "      <th>physical_activity_level</th>\n",
       "      <th>stress_level</th>\n",
       "      <th>heart_rate</th>\n",
       "      <th>daily_steps</th>\n",
       "      <th>gender</th>\n",
       "      <th>occupation</th>\n",
       "      <th>bmi_category</th>\n",
       "      <th>blood_pressure</th>\n",
       "      <th>sleep_disorder</th>\n",
       "      <th>predictions</th>\n",
       "    </tr>\n",
       "  </thead>\n",
       "  <tbody>\n",
       "    <tr>\n",
       "      <th>0</th>\n",
       "      <td>27</td>\n",
       "      <td>6.1</td>\n",
       "      <td>6</td>\n",
       "      <td>42</td>\n",
       "      <td>6</td>\n",
       "      <td>77</td>\n",
       "      <td>4200</td>\n",
       "      <td>Male</td>\n",
       "      <td>Software Engineer</td>\n",
       "      <td>Overweight</td>\n",
       "      <td>126/83</td>\n",
       "      <td>0</td>\n",
       "      <td>0</td>\n",
       "    </tr>\n",
       "    <tr>\n",
       "      <th>1</th>\n",
       "      <td>28</td>\n",
       "      <td>6.2</td>\n",
       "      <td>6</td>\n",
       "      <td>60</td>\n",
       "      <td>8</td>\n",
       "      <td>75</td>\n",
       "      <td>10000</td>\n",
       "      <td>Male</td>\n",
       "      <td>Doctor</td>\n",
       "      <td>Normal</td>\n",
       "      <td>125/80</td>\n",
       "      <td>0</td>\n",
       "      <td>0</td>\n",
       "    </tr>\n",
       "    <tr>\n",
       "      <th>2</th>\n",
       "      <td>28</td>\n",
       "      <td>6.2</td>\n",
       "      <td>6</td>\n",
       "      <td>60</td>\n",
       "      <td>8</td>\n",
       "      <td>75</td>\n",
       "      <td>10000</td>\n",
       "      <td>Male</td>\n",
       "      <td>Doctor</td>\n",
       "      <td>Normal</td>\n",
       "      <td>125/80</td>\n",
       "      <td>0</td>\n",
       "      <td>0</td>\n",
       "    </tr>\n",
       "    <tr>\n",
       "      <th>3</th>\n",
       "      <td>28</td>\n",
       "      <td>5.9</td>\n",
       "      <td>4</td>\n",
       "      <td>30</td>\n",
       "      <td>8</td>\n",
       "      <td>85</td>\n",
       "      <td>3000</td>\n",
       "      <td>Male</td>\n",
       "      <td>Sales Representative</td>\n",
       "      <td>Obese</td>\n",
       "      <td>140/90</td>\n",
       "      <td>1</td>\n",
       "      <td>1</td>\n",
       "    </tr>\n",
       "    <tr>\n",
       "      <th>4</th>\n",
       "      <td>28</td>\n",
       "      <td>5.9</td>\n",
       "      <td>4</td>\n",
       "      <td>30</td>\n",
       "      <td>8</td>\n",
       "      <td>85</td>\n",
       "      <td>3000</td>\n",
       "      <td>Male</td>\n",
       "      <td>Sales Representative</td>\n",
       "      <td>Obese</td>\n",
       "      <td>140/90</td>\n",
       "      <td>1</td>\n",
       "      <td>1</td>\n",
       "    </tr>\n",
       "    <tr>\n",
       "      <th>...</th>\n",
       "      <td>...</td>\n",
       "      <td>...</td>\n",
       "      <td>...</td>\n",
       "      <td>...</td>\n",
       "      <td>...</td>\n",
       "      <td>...</td>\n",
       "      <td>...</td>\n",
       "      <td>...</td>\n",
       "      <td>...</td>\n",
       "      <td>...</td>\n",
       "      <td>...</td>\n",
       "      <td>...</td>\n",
       "      <td>...</td>\n",
       "    </tr>\n",
       "    <tr>\n",
       "      <th>369</th>\n",
       "      <td>59</td>\n",
       "      <td>8.1</td>\n",
       "      <td>9</td>\n",
       "      <td>75</td>\n",
       "      <td>3</td>\n",
       "      <td>68</td>\n",
       "      <td>7000</td>\n",
       "      <td>Female</td>\n",
       "      <td>Nurse</td>\n",
       "      <td>Overweight</td>\n",
       "      <td>140/95</td>\n",
       "      <td>1</td>\n",
       "      <td>1</td>\n",
       "    </tr>\n",
       "    <tr>\n",
       "      <th>370</th>\n",
       "      <td>59</td>\n",
       "      <td>8.0</td>\n",
       "      <td>9</td>\n",
       "      <td>75</td>\n",
       "      <td>3</td>\n",
       "      <td>68</td>\n",
       "      <td>7000</td>\n",
       "      <td>Female</td>\n",
       "      <td>Nurse</td>\n",
       "      <td>Overweight</td>\n",
       "      <td>140/95</td>\n",
       "      <td>1</td>\n",
       "      <td>1</td>\n",
       "    </tr>\n",
       "    <tr>\n",
       "      <th>371</th>\n",
       "      <td>59</td>\n",
       "      <td>8.1</td>\n",
       "      <td>9</td>\n",
       "      <td>75</td>\n",
       "      <td>3</td>\n",
       "      <td>68</td>\n",
       "      <td>7000</td>\n",
       "      <td>Female</td>\n",
       "      <td>Nurse</td>\n",
       "      <td>Overweight</td>\n",
       "      <td>140/95</td>\n",
       "      <td>1</td>\n",
       "      <td>1</td>\n",
       "    </tr>\n",
       "    <tr>\n",
       "      <th>372</th>\n",
       "      <td>59</td>\n",
       "      <td>8.1</td>\n",
       "      <td>9</td>\n",
       "      <td>75</td>\n",
       "      <td>3</td>\n",
       "      <td>68</td>\n",
       "      <td>7000</td>\n",
       "      <td>Female</td>\n",
       "      <td>Nurse</td>\n",
       "      <td>Overweight</td>\n",
       "      <td>140/95</td>\n",
       "      <td>1</td>\n",
       "      <td>1</td>\n",
       "    </tr>\n",
       "    <tr>\n",
       "      <th>373</th>\n",
       "      <td>59</td>\n",
       "      <td>8.1</td>\n",
       "      <td>9</td>\n",
       "      <td>75</td>\n",
       "      <td>3</td>\n",
       "      <td>68</td>\n",
       "      <td>7000</td>\n",
       "      <td>Female</td>\n",
       "      <td>Nurse</td>\n",
       "      <td>Overweight</td>\n",
       "      <td>140/95</td>\n",
       "      <td>1</td>\n",
       "      <td>1</td>\n",
       "    </tr>\n",
       "  </tbody>\n",
       "</table>\n",
       "<p>374 rows × 13 columns</p>\n",
       "</div>"
      ],
      "text/plain": [
       "     age  sleep_duration  quality_of_sleep  physical_activity_level  \\\n",
       "0     27             6.1                 6                       42   \n",
       "1     28             6.2                 6                       60   \n",
       "2     28             6.2                 6                       60   \n",
       "3     28             5.9                 4                       30   \n",
       "4     28             5.9                 4                       30   \n",
       "..   ...             ...               ...                      ...   \n",
       "369   59             8.1                 9                       75   \n",
       "370   59             8.0                 9                       75   \n",
       "371   59             8.1                 9                       75   \n",
       "372   59             8.1                 9                       75   \n",
       "373   59             8.1                 9                       75   \n",
       "\n",
       "     stress_level  heart_rate  daily_steps  gender            occupation  \\\n",
       "0               6          77         4200    Male     Software Engineer   \n",
       "1               8          75        10000    Male                Doctor   \n",
       "2               8          75        10000    Male                Doctor   \n",
       "3               8          85         3000    Male  Sales Representative   \n",
       "4               8          85         3000    Male  Sales Representative   \n",
       "..            ...         ...          ...     ...                   ...   \n",
       "369             3          68         7000  Female                 Nurse   \n",
       "370             3          68         7000  Female                 Nurse   \n",
       "371             3          68         7000  Female                 Nurse   \n",
       "372             3          68         7000  Female                 Nurse   \n",
       "373             3          68         7000  Female                 Nurse   \n",
       "\n",
       "    bmi_category blood_pressure sleep_disorder predictions  \n",
       "0     Overweight         126/83              0           0  \n",
       "1         Normal         125/80              0           0  \n",
       "2         Normal         125/80              0           0  \n",
       "3          Obese         140/90              1           1  \n",
       "4          Obese         140/90              1           1  \n",
       "..           ...            ...            ...         ...  \n",
       "369   Overweight         140/95              1           1  \n",
       "370   Overweight         140/95              1           1  \n",
       "371   Overweight         140/95              1           1  \n",
       "372   Overweight         140/95              1           1  \n",
       "373   Overweight         140/95              1           1  \n",
       "\n",
       "[374 rows x 13 columns]"
      ]
     },
     "execution_count": 42,
     "metadata": {},
     "output_type": "execute_result"
    }
   ],
   "source": [
    "data1['predictions'] = predictions_data1\n",
    "data1"
   ]
  },
  {
   "cell_type": "code",
   "execution_count": 43,
   "id": "83c2cf9d",
   "metadata": {},
   "outputs": [],
   "source": [
    "y = data1[['sleep_disorder']]"
   ]
  },
  {
   "cell_type": "code",
   "execution_count": 44,
   "id": "48be3603",
   "metadata": {},
   "outputs": [
    {
     "data": {
      "image/png": "[encoded data removed]",
      "text/plain": [
       "<Figure size 640x480 with 2 Axes>"
      ]
     },
     "metadata": {},
     "output_type": "display_data"
    }
   ],
   "source": [
    "from sklearn.metrics import confusion_matrix\n",
    "import matplotlib.pyplot as plt\n",
    "\n",
    "# Compute confusion matrix\n",
    "cm = confusion_matrix(y, clf.predict(X_data1))\n",
    "\n",
    "# Plot confusion matrix\n",
    "plt.imshow(cm, interpolation='nearest', cmap=plt.cm.Blues)\n",
    "plt.colorbar()\n",
    "\n",
    "# Add value annotations\n",
    "thresh = cm.max() / 2.0\n",
    "for i in range(cm.shape[0]):\n",
    "    for j in range(cm.shape[1]):\n",
    "        plt.text(j, i, format(cm[i, j], 'd'), ha=\"center\", va=\"center\",\n",
    "                 color=\"white\" if cm[i, j] > thresh else \"black\")\n",
    "\n",
    "plt.xlabel(\"Predicted\")\n",
    "plt.ylabel(\"Actual\")\n",
    "plt.show()\n"
   ]
  },
  {
   "cell_type": "code",
   "execution_count": 45,
   "id": "56382ec2",
   "metadata": {},
   "outputs": [
    {
     "name": "stdout",
     "output_type": "stream",
     "text": [
      "210\n",
      "9\n",
      "12\n",
      "143\n"
     ]
    }
   ],
   "source": [
    "predict_y = clf.predict(X_data1)\n",
    "\n",
    "\n",
    "array = confusion_matrix(y, predict_y)\n",
    "Q1 = array[0][0]\n",
    "Q2 = array[0][1]\n",
    "Q3 = array[1][0]\n",
    "Q4 = array[1][1]\n",
    "print(Q1)\n",
    "print(Q2)\n",
    "print(Q3)\n",
    "print(Q4)"
   ]
  },
  {
   "cell_type": "markdown",
   "id": "5eef9d9a",
   "metadata": {},
   "source": [
    "We predicted truly that 210 people will suffer from sleep disorder and 142 they won't suffer. The percentage of false predictions is very small, only 5.88%."
   ]
  },
  {
   "cell_type": "code",
   "execution_count": 46,
   "id": "2da0e2c2",
   "metadata": {},
   "outputs": [
    {
     "data": {
      "text/plain": [
       "array([1.11051538e-01, 8.69340538e-02, 5.56374812e-02, 3.53809060e-02,\n",
       "       2.50793577e-02, 7.96800139e-02, 2.66074219e-02, 5.26692066e-03,\n",
       "       4.77133477e-03, 2.61749085e-03, 1.25912098e-02, 6.03810983e-03,\n",
       "       1.39628602e-02, 6.87755512e-04, 3.81309084e-02, 5.45613948e-04,\n",
       "       9.14256299e-03, 3.39181359e-03, 3.91426574e-04, 1.00693062e-02,\n",
       "       1.77261639e-01, 8.56998022e-03, 1.56840842e-02, 1.62530022e-01,\n",
       "       3.35163908e-03, 3.55841512e-04, 1.41122559e-03, 5.77737012e-05,\n",
       "       0.00000000e+00, 1.00049332e-06, 1.47290233e-02, 7.42881250e-04,\n",
       "       7.25072154e-04, 2.17300457e-02, 8.88317051e-03, 1.66120539e-03,\n",
       "       7.52746933e-04, 3.57414036e-03, 1.29399287e-04, 2.35737135e-03,\n",
       "       1.02528526e-04, 0.00000000e+00, 3.27882674e-03, 1.36240980e-02,\n",
       "       6.12197635e-04, 2.76353823e-03, 2.52481140e-02, 1.88434967e-03])"
      ]
     },
     "execution_count": 46,
     "metadata": {},
     "output_type": "execute_result"
    }
   ],
   "source": [
    "clf.feature_importances_"
   ]
  },
  {
   "cell_type": "code",
   "execution_count": 47,
   "id": "3da27d85",
   "metadata": {},
   "outputs": [
    {
     "data": {
      "text/plain": [
       "Index(['age', 'sleep_duration', 'quality_of_sleep', 'physical_activity_level',\n",
       "       'stress_level', 'heart_rate', 'daily_steps', 'gender', 'occupation',\n",
       "       'bmi_category', 'blood_pressure', 'sleep_disorder', 'predictions'],\n",
       "      dtype='object')"
      ]
     },
     "execution_count": 47,
     "metadata": {},
     "output_type": "execute_result"
    }
   ],
   "source": [
    "data1.columns"
   ]
  },
  {
   "cell_type": "code",
   "execution_count": 48,
   "id": "aefc4c9c",
   "metadata": {
    "scrolled": false
   },
   "outputs": [
    {
     "data": {
      "image/png": "[encoded data removed]",
      "text/plain": [
       "<Figure size 2000x1000 with 1 Axes>"
      ]
     },
     "metadata": {},
     "output_type": "display_data"
    }
   ],
   "source": [
    "# this code helps plot the feature importance!\n",
    "def plot_feature_importances(clf, namelist, figsize=(20, 10)):\n",
    "    n_features = len(clf.feature_importances_)\n",
    "    fig, ax = plt.subplots(figsize=figsize)\n",
    "    plt.barh(range(n_features), clf.feature_importances_, align='center')\n",
    "    plt.yticks(np.arange(n_features), namelist)\n",
    "    plt.xlabel(\"Feature importance\")\n",
    "    plt.ylabel(\"Feature\")\n",
    "\n",
    "plot_feature_importances(clf, X_data1.columns)\n",
    "plt.show()\n"
   ]
  },
  {
   "cell_type": "markdown",
   "id": "fc5ef419",
   "metadata": {},
   "source": [
    "From the above plot we understand which features play an important role of having sleeping disorder. The feature with higher significance is BMI, after, sleep duration, and third, age. There are others that affect sleep patterns as stress levels, daily steps and quality of sleep."
   ]
  },
  {
   "cell_type": "markdown",
   "id": "ab74e5be",
   "metadata": {},
   "source": [
    "## Hypothesis Test"
   ]
  },
  {
   "cell_type": "code",
   "execution_count": 49,
   "id": "08e092e6",
   "metadata": {},
   "outputs": [],
   "source": [
    "female = data1[data1['gender'] == 'Female']"
   ]
  },
  {
   "cell_type": "code",
   "execution_count": 50,
   "id": "831a96c6",
   "metadata": {},
   "outputs": [],
   "source": [
    "male = data1[data1['gender'] == 'Male']"
   ]
  },
  {
   "cell_type": "code",
   "execution_count": 51,
   "id": "aacc265c",
   "metadata": {},
   "outputs": [],
   "source": [
    "#Null hypothesis (H0): There is no association between sleep disorder and gender.\n",
    "#Alternative hypothesis (H1): There is an association between sleep disorder and gender."
   ]
  },
  {
   "cell_type": "code",
   "execution_count": 52,
   "id": "f9853e63",
   "metadata": {},
   "outputs": [],
   "source": [
    "from scipy.stats import ttest_ind\n",
    "import pandas as pd\n",
    "\n",
    "def t_test_features(s1, s2, features=['sleep_disorder']):\n",
    "    \"\"\"Test means of a feature set of two samples\n",
    "    \n",
    "    Args:\n",
    "        s1 (dataframe): sample 1\n",
    "        s2 (dataframe): sample 2\n",
    "        features (list): an array of features to test\n",
    "    \n",
    "    Returns:\n",
    "        dict: a dictionary of t-test scores for each feature where the feature name is the key and the p-value is the value\n",
    "    \"\"\"\n",
    "    results = {}\n",
    "   \n",
    "    for feat in features:\n",
    "        s1_numeric = pd.to_numeric(s1[feat])\n",
    "        s2_numeric = pd.to_numeric(s2[feat])\n",
    "        test_result = ttest_ind(s1_numeric, s2_numeric, equal_var=False)\n",
    "        p_value = test_result[1]\n",
    "        results.update({feat: p_value})\n",
    "        \n",
    "    return results\n"
   ]
  },
  {
   "cell_type": "code",
   "execution_count": 53,
   "id": "ae146c12",
   "metadata": {},
   "outputs": [],
   "source": [
    "from scipy.stats import ttest_ind\n",
    "from scipy.stats import ttest_rel"
   ]
  },
  {
   "cell_type": "code",
   "execution_count": 54,
   "id": "d8b13e44",
   "metadata": {},
   "outputs": [
    {
     "data": {
      "text/plain": [
       "{'sleep_disorder': 1.922805234160615e-08}"
      ]
     },
     "execution_count": 54,
     "metadata": {},
     "output_type": "execute_result"
    }
   ],
   "source": [
    "t_test_features(female, male)"
   ]
  },
  {
   "cell_type": "markdown",
   "id": "5060ed75",
   "metadata": {},
   "source": [
    "We can reject the null hypothesis and conclude that there is evidence of an association between sleep disorder and gender."
   ]
  },
  {
   "cell_type": "code",
   "execution_count": 55,
   "id": "995e36c1",
   "metadata": {},
   "outputs": [],
   "source": [
    "data1.to_csv('final_data.csv', index=False)"
   ]
  }
 ],
 "metadata": {
  "kernelspec": {
   "display_name": "Python 3 (ipykernel)",
   "language": "python",
   "name": "python3"
  },
  "language_info": {
   "codemirror_mode": {
    "name": "ipython",
    "version": 3
   },
   "file_extension": ".py",
   "mimetype": "text/x-python",
   "name": "python",
   "nbconvert_exporter": "python",
   "pygments_lexer": "ipython3",
   "version": "3.10.9"
  }
 },
 "nbformat": 4,
 "nbformat_minor": 5
}
